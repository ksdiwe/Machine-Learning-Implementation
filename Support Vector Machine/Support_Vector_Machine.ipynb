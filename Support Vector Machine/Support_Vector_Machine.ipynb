{
  "nbformat": 4,
  "nbformat_minor": 0,
  "metadata": {
    "colab": {
      "provenance": [],
      "toc_visible": true
    },
    "kernelspec": {
      "name": "python3",
      "display_name": "Python 3"
    },
    "language_info": {
      "name": "python"
    }
  },
  "cells": [
    {
      "cell_type": "markdown",
      "source": [
        "# Support Vector Machine"
      ],
      "metadata": {
        "id": "o-hFl6qFj94r"
      }
    },
    {
      "cell_type": "markdown",
      "source": [
        "Support vector machines (SVMs) are a type of supervised machine learning algorithm that can be used for classification or regression tasks. SVMs are based on the idea of finding a hyperplane in a high-dimensional space that maximally separates different classes."
      ],
      "metadata": {
        "id": "xuGOtwMHalv_"
      }
    },
    {
      "cell_type": "markdown",
      "source": [
        "## Implementing SVM on dataset\n",
        "\n",
        "Dataset: \n",
        "Breast Cancer Wisconsin (Diagnostic) Data Set\n",
        "\n",
        "https://archive.ics.uci.edu/ml/datasets/Breast+Cancer+Wisconsin+%28Diagnostic%29\n"
      ],
      "metadata": {
        "id": "rPn9LtJaOfWH"
      }
    },
    {
      "cell_type": "markdown",
      "source": [
        "# Support Vector Classification (SVC)\n",
        "\n",
        "The goal of SVC is to find the best boundary (also known as a \"hyperplane\") that separates different classes in a dataset. Once the boundary is found, new data points can be classified based on which side of the boundary they fall on.\n"
      ],
      "metadata": {
        "id": "8V8BYz592A4D"
      }
    },
    {
      "cell_type": "markdown",
      "source": [
        "## Implementation from scratch"
      ],
      "metadata": {
        "id": "Yb8Z8NsVaxzf"
      }
    },
    {
      "cell_type": "code",
      "source": [
        "import numpy as np\n",
        "\n",
        "class SVM:\n",
        "  def __init__(self, learning_rate, lambda_param, num_iterations):\n",
        "    self.lr = learning_rate\n",
        "    self.lambda_param = lambda_param\n",
        "    self.num_iter = num_iterations\n",
        "    self.w = None\n",
        "    self.b = None\n",
        "\n",
        "  def fit(self, X, y):\n",
        "    n_samples, n_features = X.shape\n",
        "    self.w = np.zeros(n_features)\n",
        "    self.b = 0\n",
        "\n",
        "    for _ in range(self.num_iter):\n",
        "      for idx, x_i in enumerate(X):\n",
        "        condition = y[idx] * (np.dot(x_i, self.w) - self.b) >= 1\n",
        "        if (condition.all()):\n",
        "          self.w -= self.lr * (2* self.lambda_param * self.w)\n",
        "          self.b -= self.lr * 0\n",
        "        else:\n",
        "          self.w -= self.lr * (2 * self.lambda_param * self.w - np.dot(x_i, y[idx]))\n",
        "          self.b -= self.lr * y[idx]\n",
        "\n",
        "  def predict(self, X):\n",
        "    predictions = np.dot(X, self.w) - self.b\n",
        "    return np.sign(predictions)\n",
        "\n",
        "\n"
      ],
      "metadata": {
        "id": "EC_zYU6oao0p"
      },
      "execution_count": 29,
      "outputs": []
    },
    {
      "cell_type": "markdown",
      "source": [
        "`def __init__(self, learning_rate, lambda_param, num_iterations):`\n",
        "\n",
        "    self.lr = learning_rate\n",
        "    self.lambda_param = lambda_param\n",
        "    self.num_iterations = num_iterations\n",
        "    self.w = None\n",
        "    self.b = None\n",
        "\n",
        "this is the constructor method for `SVM` class. When an object of this class is created, this method is called to initialize the object with the specified hyperparameters.\n",
        "\n",
        "the `__init__` method takes three arguments:\n",
        "\n",
        "\n",
        "\n",
        "*   `learning_rate`: a float value representing the learning rate to use during training\n",
        "*   `lambda_param`: a float value representing the regularization parameter to use during training\n",
        "*    `num_iterations`: an integer value representing the number of iterations to use during training\n",
        "\n",
        "The method then sets the following instance variables:\n",
        "\n",
        "*    `self.lr`: the learning rate\n",
        "*    `self.lambda_param`: the regularization parameter\n",
        "*    `self.num_iter`: the number of iterations\n",
        "*    `self.w`: a placeholder for the weight vector (initialized as `None`)\n",
        "*    `self.b`: a placeholder for the bias value (initialized as `None`)\n",
        "\n",
        "these instance variables cab be accessed and modified by other methods in the `SVM` class.\n"
      ],
      "metadata": {
        "id": "r6pQOZRCfevx"
      }
    },
    {
      "cell_type": "markdown",
      "source": [
        "we initialized `self.w` and `self.b` as `None` because the values of the weight vector and bias term are not known befor training.\n",
        "\n",
        "Once the model is trained, this self.w variable will be assigned a numpy array containing the values of the weight vector that maximally separate the different classes. These values are calculated during training using the input data.\n",
        "\n",
        "Once the training is finished, we can use the weights vector `self.w` along with the bias term `self.b` to make predictions on new input data using the predict method, which will use the dot product of the input and the weight vector and subtract the bias term to calculate the prediction."
      ],
      "metadata": {
        "id": "DorZOpiZj8PW"
      }
    },
    {
      "cell_type": "markdown",
      "source": [
        " `def fit(self, X, y):`\n",
        "\n",
        "    n_samples, n_features = X.shape\n",
        "    self.w = np.zeros(n_features)\n",
        "    self.b = 0\n",
        "\n",
        "    for _ in range(self.num_iter):\n",
        "      for idx, x_1 in enumerate(X):\n",
        "        condition = y[idx] * (np.dot(x_i, self.w) - self.b) >= 1\n",
        "        if condition:\n",
        "          self.w -= self.lr * (2* self.lambda_param * self.w)\n",
        "          self.b -= self.lr * 0\n",
        "        else:\n",
        "          self.w -= self.lr * (2 * self.lambda_param * self.w - np.dot(x_i, y[idx]))\n",
        "          self.b -= self.lr * y[idx]\n",
        "\n",
        "\n",
        "The `fit` method is used to train the SVM model on a given dataset. It takes two arguments:\n",
        " *    `X`: a numpy array containing the input features of the training data\n",
        " *    `y`: a numpy array containing the labels of the training data\n",
        "\n",
        " The method begins by initializing the weight vector `self.w` to be a numpy array of zeros with a lenth equal to the number of features, and the bias value `self.b` to be zero.\n",
        "\n",
        " Next, the method enters a loop that iterates for a number of times equal to `self.num_iter`, the number of iterations specified in the constructor. On each iteration of the loop, the method loops through each sample in the training data and updates the weight vector and bias value according to following rules:\n",
        "\n",
        " *    If the label of the sample is correctly classified by the current weight vector and bias value, do not update the weights.\n",
        " *    If the label of the sample is incorrectly classified by the current weight vector and bias value. update the weights accordingly to the gradient of the SVM loss function.\n",
        "\n",
        " After the loop completes, the method returns nothing, but the weight vector and bias value will have been updated to values that should better separate the classes in the training data."
      ],
      "metadata": {
        "id": "_x-rMIWSldHn"
      }
    },
    {
      "cell_type": "markdown",
      "source": [
        " `def predict(self, X):`\n",
        "\n",
        "    predictions = np.dot(X, self.w) - self.b\n",
        "    return np.sign(predictions)\n",
        "\n",
        "  The `predict` method is used to make predictions on new data using the trained SVM model. It takes a single argument:\n",
        "  *    `X`: a numpy array containing the input features of the data for which you want to make predictions\n",
        "\n",
        "The method begins by computing the dot product of `X` and the weight vector `self.w`, and subtracting the bias value `self.b`. This result is stored in the `predictions` variable.\n",
        "\n",
        "The method then applies the `np.sign` function to the `predictions` array, which return an array of values that are either -1, 0, or 1, depending on the sign of the corresponding element in the `predictions` array.\n",
        "\n",
        "Finally, the method returns the resulting array as the output. In the context of an SVM classifier, the output of this method can be interpreted class labels for the input data."
      ],
      "metadata": {
        "id": "l18t4ZlOobjg"
      }
    },
    {
      "cell_type": "markdown",
      "source": [
        "## Using scikit-learn"
      ],
      "metadata": {
        "id": "MNXFRcuP3GCO"
      }
    },
    {
      "cell_type": "code",
      "source": [
        "from sklearn.svm import SVC\n",
        "from sklearn.metrics import accuracy_score\n",
        "from sklearn.model_selection import train_test_split\n",
        "\n",
        "# Load the dataset\n",
        "df = pd.read_csv('https://archive.ics.uci.edu/ml/machine-learning-databases/breast-cancer-wisconsin/wdbc.data', header=None)\n",
        "\n",
        "# Split the data into features (X) and labels (y)\n",
        "X = df.iloc[:, 2:]\n",
        "y = df.iloc[:, 1]\n",
        "\n",
        "# Convert the labels to binary values (benign: 0, malignant: 1)\n",
        "y = np.where(y == 'B', 0, 1)\n",
        "\n",
        "# train-test split\n",
        "X_train, X_test, y_train, y_test = train_test_split(X, y, test_size=0.2, random_state=42)\n",
        "\n",
        "# create an instance of SVC\n",
        "svm = SVC(kernel='rbf', C=1, probability=True)\n",
        "\n",
        "# fit the classifier on the training data\n",
        "svm.fit(X_train, y_train)\n",
        "\n",
        "# get the accuracy score on the test set\n",
        "accuracy = accuracy_score(y_test, svm.predict(X_test))\n",
        "print(\"Accuracy: \",accuracy)"
      ],
      "metadata": {
        "colab": {
          "base_uri": "https://localhost:8080/"
        },
        "id": "lEr-ga6PlUiL",
        "outputId": "bb66243a-cb8c-48a5-85bd-2845738388a8"
      },
      "execution_count": 57,
      "outputs": [
        {
          "output_type": "stream",
          "name": "stdout",
          "text": [
            "Accuracy:  0.9473684210526315\n"
          ]
        }
      ]
    },
    {
      "cell_type": "markdown",
      "source": [
        "# Support Vector Regression (SVR)\n",
        "\n",
        "The goal of SVR is to find a boundary that best separates the data points from the target value. Once the boundary is found, new data points can be predicted based on the boundary."
      ],
      "metadata": {
        "id": "8PBJoK9s2qkH"
      }
    },
    {
      "cell_type": "markdown",
      "source": [
        "## Implementation from scratch"
      ],
      "metadata": {
        "id": "E6ixQYuvrPma"
      }
    },
    {
      "cell_type": "markdown",
      "source": [
        "SVM regressor is implemented using squared epsilon-insensitive loss function."
      ],
      "metadata": {
        "id": "KZfFVhR2AbhL"
      }
    },
    {
      "cell_type": "code",
      "source": [
        "\n",
        "import numpy as np\n",
        "\n",
        "class SVM_Regressor:\n",
        "  \n",
        "  def __init__(self, learning_rate, lambda_param, num_iterations, epsilon):\n",
        "    self.lr = learning_rate\n",
        "    self.lambda_param = lambda_param\n",
        "    self.num_iter = num_iterations\n",
        "    self.epsilon = epsilon\n",
        "    self.w = None\n",
        "    self.b = None\n",
        "\n",
        "  def fit(self, X, y):\n",
        "    n_samples, n_features = X.shape\n",
        "    self.w = np.zeros(n_features)\n",
        "    self.b = 0\n",
        "    for _ in range(self.num_iter):\n",
        "      for idx, x_i in enumerate(X):\n",
        "        residual = y[idx] - (np.dot(x_i, self.w) - self.b)\n",
        "        if (abs(residual) > self.epsilon).all():\n",
        "          dw = -2 * self.lambda_param * self.w + x_i * (1 if np.any(residual > 0) else -1)\n",
        "          db = -1 if np.any(residual >0) else 1\n",
        "        else:\n",
        "          dw = -2*self.lambda_param * self.w\n",
        "          db = 0\n",
        "        self.w -= self.lr * dw\n",
        "        self.b -= self.lr * db\n",
        "\n",
        "  def predict(self, X):\n",
        "    return np.dot(X, self.w) - self.b"
      ],
      "metadata": {
        "id": "4Ye7YeNrAoyr"
      },
      "execution_count": 58,
      "outputs": []
    },
    {
      "cell_type": "markdown",
      "source": [
        "### Epsilon-Insensitive Loss function\n",
        "\n",
        "Squared epsilon-insensitive loss function is used to measure the difference between the true target values and the predicted values of the model."
      ],
      "metadata": {
        "id": "Xz1XTeQyLZDb"
      }
    },
    {
      "cell_type": "markdown",
      "source": [
        "`L(y_i, f(x_i)) = max(0, |y_i - f(x_i)| - epsilon)^2`\n",
        "\n"
      ],
      "metadata": {
        "id": "UxyZJNPaMO_N"
      }
    },
    {
      "cell_type": "markdown",
      "source": [
        "where `y_i` is the true target value for the i-th sample, `f(x_i)` is the predicted value for the i-th sample, and epsilon is a user-specified hyperparameter.\n",
        "\n",
        "The loss function is designed to be \"insensitive\" to small errors in the predictions within a certain range (given by `epsilon`), and it punishes large errors with a squared term.\n",
        "\n",
        "The loss function has two regions:\n",
        "\n",
        "*    For predictions that are within `epsilon` of the true target value, the loss is zero. This means that small errors in the predictions are not penalized.\n",
        "*    For predictions that are farther than `epsilon` from the true target value, the loss is equal to the square of the difference between the prediction and the true target value, minus `epsilon`. This means that large errors in the predictions are heavily penalized.\n",
        "\n",
        "The epsilon value serves as a parameter that determines the level of tolerance for errors, with a small epsilon resulting in a more sensitive model and more penalties for small errors.\n",
        "\n",
        "The optimization algorithm adjust the model's parameters such as weights and bias to minimize this loss function over the entire training data set."
      ],
      "metadata": {
        "id": "D-ekdp7OMTVR"
      }
    },
    {
      "cell_type": "markdown",
      "source": [
        " `def fit(self, X, y):`\n",
        " \n",
        "        n_samples, n_features = X.shape\n",
        "        self.w = np.zeros(n_features)\n",
        "        self.b = 0\n",
        "        for _ in range(self.num_iter):\n",
        "            for idx, x_i in enumerate(X):\n",
        "                residual = y[idx] - (np.dot(x_i, self.w) - self.b)\n",
        "                if abs(residual) > self.epsilon:\n",
        "                    dw = -2 * self.lambda_param * self.w + x_i * (1 if residual > 0 else -1)\n",
        "                    db = -1 if residual > 0 else 1\n",
        "                else:\n",
        "                    dw = -2 * self.lambda_param * self.w\n",
        "                    db = 0\n",
        "                self.w -= self.lr * dw\n",
        "                self.b -= self.lr * db"
      ],
      "metadata": {
        "id": "47kyZ8juMvVV"
      }
    },
    {
      "cell_type": "markdown",
      "source": [
        "The `fit()` method is used to train the SVM regressor model on the input data. It takes two arguments:\n",
        "\n",
        "*    `X`: a 2D numpy array representing the input features of the training data\n",
        "*    `y`: a 1D numpy array representing the target values of the training data\n",
        "\n",
        "First, the number of samples and features in the input data is determined using the `shape` attribute of the `X` array and stored in the variables `n_samples` and `n_features`, respectively. Then the weight vector `self.w` is initialized to a numpy array of zeros of size `n_features`, and the bias term `self.b` is initialized to zero.\n",
        "\n",
        "The method then performs a number of iterations specified by the `num_iter` parameter. In each iteration, the method iterates over the input data using a `for` loop, where `enumerate(X)` returns both the index and the element at that index so we can access both the input and the target value for each sample.\n",
        "\n",
        "For each sample, the residual is calculated as the difference between the true target value and the current prediction, which is the dot product of the input sample and the weight vector minus the bias term.\n",
        "\n",
        "If the absolute value of the residual is greater than the `epsilon` parameter, the weight vector and bias term are updated using the gradients of the loss function. The gradient of the weight vector `dw` is computed as a negative scalar times the weight vector plus the input sample scaled by either 1 or -1 depending on whether the residual is greater than zero or not. Similarly, the gradient of the bias term `db` is computed as a scalar of either -1 or 1 depending on whether the residual is greater than zero or not.\n",
        "\n",
        "Otherwise, if the absolute value of the residual is less than or equal to `epsilon`, the weight vector and bias term are not updated.\n",
        "\n",
        "Finally, the weight vector and bias term are updated by subtracting the corresponding gradients, scaled by the learning rate, from the current values.\n",
        "\n",
        "In this way, the SVM regressor iteratively updates the weight vector and bias term in order to minimize the squared epsilon-insensitive loss function over the entire training dataset, and eventually we will have a model that can make predictions on new unseen data."
      ],
      "metadata": {
        "id": "qXHGyfP6NFXS"
      }
    },
    {
      "cell_type": "markdown",
      "source": [
        "## Using scikit-learn"
      ],
      "metadata": {
        "id": "A2ut5E2O3Kvj"
      }
    },
    {
      "cell_type": "code",
      "source": [
        "from sklearn.svm import SVR\n",
        "# Load the dataset\n",
        "df = pd.read_csv('https://archive.ics.uci.edu/ml/machine-learning-databases/breast-cancer-wisconsin/wdbc.data', header=None)\n",
        "\n",
        "# Split the data into features (X) and labels (y)\n",
        "X = df.iloc[:, 2:]\n",
        "y = df.iloc[:, 1]\n",
        "\n",
        "# Convert the labels to binary values (benign: 0, malignant: 1)\n",
        "y = np.where(y == 'B', 0, 1)\n",
        "\n",
        "# train-test split\n",
        "X_train, X_test, y_train, y_test = train_test_split(X, y, test_size=0.2, random_state=42)\n",
        "\n",
        "\n",
        "# create an instance of SVR\n",
        "svr = SVR(kernel='linear', C=1)\n",
        "\n",
        "# fit the regressor on the training data\n",
        "svr.fit(X_train, y_train)\n",
        "\n",
        "# get the mean squared error on the test set\n",
        "mse = mean_squared_error(y_test, svr.predict(X_test))\n",
        "print(\"Mean Squared Error: \",mse)\n",
        "\n"
      ],
      "metadata": {
        "colab": {
          "base_uri": "https://localhost:8080/"
        },
        "id": "Sfmpz0wNmhS8",
        "outputId": "4ac00f1b-625d-4d0e-aeab-946c1607b414"
      },
      "execution_count": 56,
      "outputs": [
        {
          "output_type": "stream",
          "name": "stdout",
          "text": [
            "Mean Squared Error:  0.2072510068890205\n"
          ]
        }
      ]
    },
    {
      "cell_type": "code",
      "source": [
        "from matplotlib import pyplot as plt\n",
        "from sklearn.datasets import load_breast_cancer\n",
        "from sklearn.svm import SVC\n",
        "from sklearn.metrics import accuracy_score\n",
        "from sklearn.model_selection import train_test_split\n",
        "\n",
        "# load breast cancer dataset\n",
        "data = load_breast_cancer()\n",
        "X, y = data.data[:, :2], data.target\n",
        "\n",
        "# train-test split\n",
        "X_train, X_test, y_train, y_test = train_test_split(X, y, test_size=0.2, random_state=42)\n",
        "\n",
        "# create an instance of SVC\n",
        "svm = SVC(kernel='linear', C=1, probability=True)\n",
        "\n",
        "# fit the classifier on the training data\n",
        "svm.fit(X_train, y_train)\n",
        "\n",
        "# get the accuracy score on the test set\n",
        "accuracy = accuracy_score(y_test, svm.predict(X_test))\n",
        "print(\"Accuracy: \",accuracy)\n",
        "\n",
        "# Create a mesh grid to plot in\n",
        "h = .02  # step size in the mesh\n",
        "x_min, x_max = X[:, 0].min() - 1, X[:, 0].max() + 1\n",
        "y_min, y_max = X[:, 1].min() - 1, X[:, 1].max() + 1\n",
        "xx, yy = np.meshgrid(np.arange(x_min, x_max, h),\n",
        "                     np.arange(y_min, y_max, h))\n",
        "\n",
        "# plot the decision boundary\n",
        "Z = svm.predict(np.c_[xx.ravel(), yy.ravel()])\n",
        "Z = Z.reshape(xx.shape)\n",
        "plt.contourf(xx, yy, Z, cmap=plt.cm.coolwarm, alpha=0.8)\n",
        "\n",
        "# plot the training points\n",
        "plt.scatter(X[:, 0], X[:, 1], c=y, cmap=plt.cm.coolwarm)\n",
        "plt.xlabel('Feature 1')\n",
        "plt.ylabel('Feature 2')\n",
        "plt.xlim(xx.min(), xx.max())\n",
        "plt.ylim(yy.min(), yy.max())\n",
        "plt.xticks(())\n",
        "plt.yticks(())\n",
        "\n",
        "plt.show()\n"
      ],
      "metadata": {
        "colab": {
          "base_uri": "https://localhost:8080/",
          "height": 279
        },
        "id": "4dQPXahRaq2E",
        "outputId": "2055b4aa-7bbf-4c57-e5e8-1b07cc12db32"
      },
      "execution_count": 53,
      "outputs": [
        {
          "output_type": "stream",
          "name": "stdout",
          "text": [
            "Accuracy:  0.9035087719298246\n"
          ]
        },
        {
          "output_type": "display_data",
          "data": {
            "text/plain": [
              "<Figure size 432x288 with 1 Axes>"
            ],
            "image/png": "[encoded data removed]"
          },
          "metadata": {}
        }
      ]
    }
  ]
}